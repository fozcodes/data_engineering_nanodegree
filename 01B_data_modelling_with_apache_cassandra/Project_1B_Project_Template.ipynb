{
 "cells": [
  {
   "cell_type": "markdown",
   "metadata": {},
   "source": [
    "# Part I. ETL Pipeline for Pre-Processing the Files"
   ]
  },
  {
   "cell_type": "markdown",
   "metadata": {},
   "source": [
    "## PLEASE RUN THE FOLLOWING CODE FOR PRE-PROCESSING THE FILES"
   ]
  },
  {
   "cell_type": "markdown",
   "metadata": {},
   "source": [
    "#### Import Python packages "
   ]
  },
  {
   "cell_type": "code",
   "execution_count": 10,
   "metadata": {},
   "outputs": [],
   "source": [
    "import pandas as pd\n",
    "import cassandra\n",
    "import re\n",
    "import os\n",
    "import glob\n",
    "import numpy as np\n",
    "import json\n",
    "import csv\n",
    "from decimal import Decimal"
   ]
  },
  {
   "cell_type": "markdown",
   "metadata": {},
   "source": [
    "#### Creating list of filepaths to process original event csv data files"
   ]
  },
  {
   "cell_type": "code",
   "execution_count": 19,
   "metadata": {},
   "outputs": [
    {
     "name": "stdout",
     "output_type": "stream",
     "text": [
      "/Users/foz/Code/udacity/data_engineering_nanodegree/01B_data_modelling_with_apache_cassandra\n"
     ]
    }
   ],
   "source": [
    "print(os.getcwd())\n",
    "\n",
    "filepath = os.getcwd() + '/event_data'\n",
    "\n",
    "for root, dirs, files in os.walk(filepath):\n",
    "    file_path_list = glob.glob(os.path.join(root,'*'))"
   ]
  },
  {
   "cell_type": "markdown",
   "metadata": {},
   "source": [
    "#### Processing the files to create the data file csv that will be used for Apache Casssandra tables"
   ]
  },
  {
   "cell_type": "code",
   "execution_count": 20,
   "metadata": {},
   "outputs": [],
   "source": [
    "full_data_rows_list = [] \n",
    "    \n",
    "for f in file_path_list:\n",
    "    with open(f, 'r', encoding = 'utf8', newline='') as csvfile: \n",
    "        csvreader = csv.reader(csvfile) \n",
    "        next(csvreader)\n",
    "        \n",
    "        for line in csvreader:\n",
    "        \n",
    "            full_data_rows_list.append(line) \n",
    "        \n",
    "csv.register_dialect('myDialect', quoting=csv.QUOTE_ALL, skipinitialspace=True)\n",
    "\n",
    "with open('event_datafile_new.csv', 'w', encoding = 'utf8', newline='') as f:\n",
    "    writer = csv.writer(f, dialect='myDialect')\n",
    "    writer.writerow(['artist','firstName','gender','itemInSession','lastName','length',\\\n",
    "                'level','location','sessionId','song','userId'])\n",
    "    for row in full_data_rows_list:\n",
    "        if (row[0] == ''):\n",
    "            continue\n",
    "        writer.writerow((row[0], row[2], row[3], row[4], row[5], row[6], row[7], row[8], row[12], row[13], row[16]))\n"
   ]
  },
  {
   "cell_type": "code",
   "execution_count": 21,
   "metadata": {},
   "outputs": [
    {
     "name": "stdout",
     "output_type": "stream",
     "text": [
      "401\n"
     ]
    }
   ],
   "source": [
    "with open('event_datafile_new.csv', 'r', encoding = 'utf8') as f:\n",
    "    print(sum(1 for line in f))"
   ]
  },
  {
   "cell_type": "markdown",
   "metadata": {},
   "source": [
    "# Part II. Complete the Apache Cassandra coding portion of your project. \n",
    "\n",
    "## Now you are ready to work with the CSV file titled <font color=red>event_datafile_new.csv</font>, located within the Workspace directory.  The event_datafile_new.csv contains the following columns: \n",
    "- artist \n",
    "- firstName of user\n",
    "- gender of user\n",
    "- item number in session\n",
    "- last name of user\n",
    "- length of the song\n",
    "- level (paid or free song)\n",
    "- location of the user\n",
    "- sessionId\n",
    "- song title\n",
    "- userId\n",
    "\n",
    "The image below is a screenshot of what the denormalized data should appear like in the <font color=red>**event_datafile_new.csv**</font> after the code above is run:<br>\n",
    "\n",
    "<img src=\"images/image_event_datafile_new.jpg\">"
   ]
  },
  {
   "cell_type": "markdown",
   "metadata": {},
   "source": [
    "## Setup cluster and keyspace"
   ]
  },
  {
   "cell_type": "markdown",
   "metadata": {},
   "source": [
    "#### Creating a Cluster"
   ]
  },
  {
   "cell_type": "code",
   "execution_count": 22,
   "metadata": {},
   "outputs": [],
   "source": [
    "from cassandra.cluster import Cluster\n",
    "cluster = Cluster()\n",
    "\n",
    "session = cluster.connect()"
   ]
  },
  {
   "cell_type": "markdown",
   "metadata": {},
   "source": [
    "#### Create Keyspace"
   ]
  },
  {
   "cell_type": "code",
   "execution_count": 23,
   "metadata": {},
   "outputs": [
    {
     "data": {
      "text/plain": [
       "<cassandra.cluster.ResultSet at 0x11e5843d0>"
      ]
     },
     "execution_count": 23,
     "metadata": {},
     "output_type": "execute_result"
    }
   ],
   "source": [
    "session.execute(\"\"\"\n",
    "    CREATE KEYSPACE IF NOT EXISTS sparkify \n",
    "    WITH REPLICATION = \n",
    "    { 'class' : 'SimpleStrategy', 'replication_factor' : 1 }\"\"\"\n",
    ")"
   ]
  },
  {
   "cell_type": "markdown",
   "metadata": {},
   "source": [
    "#### Set Keyspace"
   ]
  },
  {
   "cell_type": "code",
   "execution_count": 24,
   "metadata": {},
   "outputs": [],
   "source": [
    "session.set_keyspace('sparkify')"
   ]
  },
  {
   "cell_type": "markdown",
   "metadata": {},
   "source": [
    "### Querying songs by session and item in session\n",
    "\n",
    "This ETL creates a table to find songs by session and item in session. It will return the artist name, song name, and the song length."
   ]
  },
  {
   "cell_type": "code",
   "execution_count": 25,
   "metadata": {},
   "outputs": [
    {
     "data": {
      "text/plain": [
       "<cassandra.cluster.ResultSet at 0x11e1d0dc0>"
      ]
     },
     "execution_count": 25,
     "metadata": {},
     "output_type": "execute_result"
    }
   ],
   "source": [
    "## TO-DO: Query 1:  Give me the artist, song title and song's length in the music app history that was heard during \\\n",
    "## sessionId = 338, and itemInSession = 4\n",
    "create_items_in_session_table = \"\"\"\n",
    "CREATE TABLE IF NOT EXISTS session_items\n",
    "(session_id int, item_in_session int, artist text, song_title text, song_length decimal, PRIMARY KEY(session_id, item_in_session))\n",
    "\"\"\"\n",
    "\n",
    "session.execute(create_items_in_session_table)\n",
    "\n"
   ]
  },
  {
   "cell_type": "code",
   "execution_count": 27,
   "metadata": {},
   "outputs": [],
   "source": [
    "file = 'event_datafile_new.csv'\n",
    "\n",
    "with open(file, encoding = 'utf8') as f:\n",
    "    csvreader = csv.DictReader(f)\n",
    "    for line in csvreader:\n",
    "        query = \"\"\"\n",
    "        INSERT INTO session_items (session_id, item_in_session, artist, song_title, song_length) VALUES (%s, %s, %s, %s, %s)\n",
    "        \"\"\"\n",
    "        session.execute(\n",
    "            query, ( \n",
    "                int(line['sessionId']), \n",
    "                int(line['itemInSession']),\n",
    "                line['artist'], \n",
    "                line['song'], \n",
    "                Decimal(line['length'])\n",
    "            )\n",
    "        )"
   ]
  },
  {
   "cell_type": "code",
   "execution_count": 28,
   "metadata": {
    "scrolled": true
   },
   "outputs": [],
   "source": [
    "info_by_session_ids_query = \"\"\"\n",
    "SELECT artist, song_title, song_length FROM session_items WHERE session_id = 338 AND item_in_session = 4\n",
    "\"\"\"\n",
    "\n",
    "rows = session.execute(info_by_session_ids_query)\n",
    "    \n",
    "for row in rows:\n",
    "    print (row.artist, row.song_title, row.song_length,)"
   ]
  },
  {
   "cell_type": "markdown",
   "metadata": {},
   "source": [
    "### Querying songs by user session\n",
    "\n",
    "This ETL creates a table to view the songs by user sessions. It's ordered by `item_in_session` then by user's first and last name."
   ]
  },
  {
   "cell_type": "code",
   "execution_count": 30,
   "metadata": {},
   "outputs": [
    {
     "data": {
      "text/plain": [
       "<cassandra.cluster.ResultSet at 0x11e6a3b50>"
      ]
     },
     "execution_count": 30,
     "metadata": {},
     "output_type": "execute_result"
    }
   ],
   "source": [
    "create_songs_by_user_query = \"\"\"\n",
    "CREATE TABLE IF NOT EXISTS songs_by_user_session\n",
    "(user_id int, session_id int, item_in_session int, user_first_name text, user_last_name text, artist text, song_title text,\n",
    "PRIMARY KEY((user_id, session_id), item_in_session, user_first_name, user_last_name))\n",
    "\"\"\"\n",
    "\n",
    "session.execute(create_songs_by_user_query)\n"
   ]
  },
  {
   "cell_type": "code",
   "execution_count": 31,
   "metadata": {},
   "outputs": [],
   "source": [
    "file = 'event_datafile_new.csv'\n",
    "\n",
    "with open(file, encoding = 'utf8') as f:\n",
    "    csvreader = csv.DictReader(f)\n",
    "    for line in csvreader:\n",
    "        query = \"\"\"\n",
    "        INSERT INTO songs_by_user_session (user_id, session_id, item_in_session, user_first_name, user_last_name, artist, song_title) \n",
    "        VALUES (%s, %s, %s, %s, %s, %s, %s)\n",
    "        \"\"\"\n",
    "        session.execute(\n",
    "            query, (\n",
    "                int(line['userId']),\n",
    "                int(line['sessionId']),\n",
    "                int(line['itemInSession']), \n",
    "                line['firstName'],\n",
    "                line['lastName'],\n",
    "                line['artist'], \n",
    "                line['song']\n",
    "            )\n",
    "        )\n"
   ]
  },
  {
   "cell_type": "code",
   "execution_count": 32,
   "metadata": {},
   "outputs": [],
   "source": [
    "songs_by_user_query = \"\"\"\n",
    "SELECT item_in_session, user_first_name, user_last_name, artist, song_title \n",
    "FROM songs_by_user_session \n",
    "WHERE user_id = 10 AND session_id = 182\n",
    "\"\"\"\n",
    "\n",
    "rows = session.execute(songs_by_user_query)\n",
    "    \n",
    "for row in rows:\n",
    "    print (row.artist, row.song_title, row.item_in_session, row.user_first_name, row.user_last_name,)\n"
   ]
  },
  {
   "cell_type": "markdown",
   "metadata": {},
   "source": [
    "### Querying users by song\n",
    "\n",
    "This ETL creates a table to view the all the users who listened to a given song."
   ]
  },
  {
   "cell_type": "code",
   "execution_count": 42,
   "metadata": {},
   "outputs": [
    {
     "data": {
      "text/plain": [
       "<cassandra.cluster.ResultSet at 0x11e6acd60>"
      ]
     },
     "execution_count": 42,
     "metadata": {},
     "output_type": "execute_result"
    }
   ],
   "source": [
    "create_users_by_song_query = \"\"\"\n",
    "CREATE TABLE IF NOT EXISTS users_by_song\n",
    "(song text, user_id int, user_first_name text, user_last_name text, \n",
    "PRIMARY KEY(song, user_id))\n",
    "\"\"\"\n",
    "\n",
    "session.execute(create_users_by_song_query)                   "
   ]
  },
  {
   "cell_type": "code",
   "execution_count": 43,
   "metadata": {},
   "outputs": [],
   "source": [
    "file = 'event_datafile_new.csv'\n",
    "\n",
    "with open(file, encoding = 'utf8') as f:\n",
    "    csvreader = csv.DictReader(f)\n",
    "    for line in csvreader:\n",
    "        query = \"\"\"\n",
    "        INSERT INTO users_by_song (song, user_id, user_first_name, user_last_name) \n",
    "        VALUES (%s, %s, %s, %s)\n",
    "        \"\"\"\n",
    "        session.execute(\n",
    "            query, (\n",
    "                line['song'],\n",
    "                int(line['userId']),\n",
    "                line['firstName'],\n",
    "                line['lastName']\n",
    "            )\n",
    "        )\n"
   ]
  },
  {
   "cell_type": "code",
   "execution_count": 44,
   "metadata": {},
   "outputs": [
    {
     "name": "stdout",
     "output_type": "stream",
     "text": [
      "Jayden Graves\n"
     ]
    }
   ],
   "source": [
    "users_by_song_query = \"\"\"\n",
    "SELECT user_id, user_first_name, user_last_name \n",
    "FROM users_by_song\n",
    "WHERE song = 'All Hands Against His Own'\n",
    "\"\"\"\n",
    "\n",
    "rows = session.execute(users_by_song_query)\n",
    "    \n",
    "for row in rows:\n",
    "    print (row.user_first_name, row.user_last_name,)"
   ]
  },
  {
   "cell_type": "markdown",
   "metadata": {},
   "source": [
    "### Drop the tables before closing out the sessions"
   ]
  },
  {
   "cell_type": "code",
   "execution_count": 41,
   "metadata": {},
   "outputs": [
    {
     "data": {
      "text/plain": [
       "<cassandra.cluster.ResultSet at 0x11e6ac5e0>"
      ]
     },
     "execution_count": 41,
     "metadata": {},
     "output_type": "execute_result"
    }
   ],
   "source": [
    "drop_table = \"\"\"\n",
    "DROP TABLE users_by_song;\n",
    "\"\"\"\n",
    "\n",
    "session.execute(drop_table)\n",
    "drop_table = \"\"\"\n",
    "DROP TABLE songs_by_user_session;\n",
    "\"\"\"\n",
    "\n",
    "session.execute(drop_table)\n",
    "drop_table = \"\"\"\n",
    "DROP TABLE session_items;\n",
    "\"\"\"\n",
    "\n",
    "session.execute(drop_table)"
   ]
  },
  {
   "cell_type": "markdown",
   "metadata": {},
   "source": [
    "### Close the session and cluster connection¶"
   ]
  },
  {
   "cell_type": "code",
   "execution_count": 49,
   "metadata": {},
   "outputs": [],
   "source": [
    "session.shutdown()\n",
    "cluster.shutdown()"
   ]
  }
 ],
 "metadata": {
  "kernelspec": {
   "display_name": "Python 3 (ipykernel)",
   "language": "python",
   "name": "python3"
  },
  "language_info": {
   "codemirror_mode": {
    "name": "ipython",
    "version": 3
   },
   "file_extension": ".py",
   "mimetype": "text/x-python",
   "name": "python",
   "nbconvert_exporter": "python",
   "pygments_lexer": "ipython3",
   "version": "3.9.8"
  }
 },
 "nbformat": 4,
 "nbformat_minor": 4
}
