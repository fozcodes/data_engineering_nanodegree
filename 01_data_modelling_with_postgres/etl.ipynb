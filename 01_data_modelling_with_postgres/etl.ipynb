{
 "cells": [
  {
   "cell_type": "markdown",
   "metadata": {
    "editable": true
   },
   "source": [
    "# ETL Processes\n",
    "Use this notebook to develop the ETL process for each of your tables before completing the `etl.py` file to load the whole datasets."
   ]
  },
  {
   "cell_type": "code",
   "execution_count": null,
   "metadata": {
    "editable": true
   },
   "outputs": [],
   "source": [
    "import os\n",
    "import glob\n",
    "import psycopg2\n",
    "import pandas as pd\n",
    "from sql_queries import *"
   ]
  },
  {
   "cell_type": "code",
   "execution_count": null,
   "metadata": {
    "editable": true
   },
   "outputs": [],
   "source": [
    "conn = psycopg2.connect(\"host=127.0.0.1 dbname=sparkifydb user=student password=student\")\n",
    "cur = conn.cursor()"
   ]
  },
  {
   "cell_type": "code",
   "execution_count": null,
   "metadata": {
    "editable": true
   },
   "outputs": [],
   "source": [
    "def get_files(filepath):\n",
    "    all_files = []\n",
    "    for root, dirs, files in os.walk(filepath):\n",
    "        files = glob.glob(os.path.join(root,'*.json'))\n",
    "        for f in files :\n",
    "            all_files.append(os.path.abspath(f))\n",
    "    \n",
    "    return all_files"
   ]
  },
  {
   "cell_type": "markdown",
   "metadata": {
    "editable": true
   },
   "source": [
    "# Process `song_data`\n",
    "In this first part, you'll perform ETL on the first dataset, `song_data`, to create the `songs` and `artists` dimensional tables.\n",
    "\n",
    "Let's perform ETL on a single song file and load a single record into each table to start.\n",
    "- Use the `get_files` function provided above to get a list of all song JSON files in `data/song_data`\n",
    "- Select the first song in this list\n",
    "- Read the song file and view the data"
   ]
  },
  {
   "cell_type": "code",
   "execution_count": null,
   "metadata": {
    "editable": true
   },
   "outputs": [],
   "source": [
    "song_files = get_files(\"data/song_data\")\n",
    "print(song_files)"
   ]
  },
  {
   "cell_type": "code",
   "execution_count": null,
   "metadata": {
    "editable": true
   },
   "outputs": [],
   "source": [
    "filepath = song_files[0]"
   ]
  },
  {
   "cell_type": "code",
   "execution_count": null,
   "metadata": {
    "editable": true
   },
   "outputs": [],
   "source": [
    "df = pd.read_json(filepath, lines=True)\n",
    "df.head()"
   ]
  },
  {
   "cell_type": "markdown",
   "metadata": {
    "editable": true
   },
   "source": [
    "## #1: `songs` Table\n",
    "#### Extract Data for Songs Table\n",
    "- Select columns for song ID, title, artist ID, year, and duration\n",
    "- Use `df.values` to select just the values from the dataframe\n",
    "- Index to select the first (only) record in the dataframe\n",
    "- Convert the array to a list and set it to `song_data`"
   ]
  },
  {
   "cell_type": "code",
   "execution_count": null,
   "metadata": {
    "editable": true
   },
   "outputs": [],
   "source": [
    "song_data = \n",
    "song_data"
   ]
  },
  {
   "cell_type": "markdown",
   "metadata": {
    "editable": true
   },
   "source": [
    "#### Insert Record into Song Table\n",
    "Implement the `song_table_insert` query in `sql_queries.py` and run the cell below to insert a record for this song into the `songs` table. Remember to run `create_tables.py` before running the cell below to ensure you've created/resetted the `songs` table in the sparkify database."
   ]
  },
  {
   "cell_type": "code",
   "execution_count": null,
   "metadata": {
    "editable": true
   },
   "outputs": [],
   "source": [
    "cur.execute(song_table_insert, song_data)\n",
    "conn.commit()"
   ]
  },
  {
   "cell_type": "markdown",
   "metadata": {
    "editable": true
   },
   "source": [
    "Run `test.ipynb` to see if you've successfully added a record to this table."
   ]
  },
  {
   "cell_type": "markdown",
   "metadata": {
    "editable": true
   },
   "source": [
    "## #2: `artists` Table\n",
    "#### Extract Data for Artists Table\n",
    "- Select columns for artist ID, name, location, latitude, and longitude\n",
    "- Use `df.values` to select just the values from the dataframe\n",
    "- Index to select the first (only) record in the dataframe\n",
    "- Convert the array to a list and set it to `artist_data`"
   ]
  },
  {
   "cell_type": "code",
   "execution_count": null,
   "metadata": {
    "editable": true
   },
   "outputs": [],
   "source": [
    "artist_data = \n",
    "artist_data"
   ]
  },
  {
   "cell_type": "markdown",
   "metadata": {
    "editable": true
   },
   "source": [
    "#### Insert Record into Artist Table\n",
    "Implement the `artist_table_insert` query in `sql_queries.py` and run the cell below to insert a record for this song's artist into the `artists` table. Remember to run `create_tables.py` before running the cell below to ensure you've created/resetted the `artists` table in the sparkify database."
   ]
  },
  {
   "cell_type": "code",
   "execution_count": null,
   "metadata": {
    "editable": true
   },
   "outputs": [],
   "source": [
    "cur.execute(artist_table_insert, artist_data)\n",
    "conn.commit()"
   ]
  },
  {
   "cell_type": "markdown",
   "metadata": {
    "editable": true
   },
   "source": [
    "Run `test.ipynb` to see if you've successfully added a record to this table."
   ]
  },
  {
   "cell_type": "markdown",
   "metadata": {
    "editable": true
   },
   "source": [
    "# Process `log_data`\n",
    "In this part, you'll perform ETL on the second dataset, `log_data`, to create the `time` and `users` dimensional tables, as well as the `songplays` fact table.\n",
    "\n",
    "Let's perform ETL on a single log file and load a single record into each table.\n",
    "- Use the `get_files` function provided above to get a list of all log JSON files in `data/log_data`\n",
    "- Select the first log file in this list\n",
    "- Read the log file and view the data"
   ]
  },
  {
   "cell_type": "code",
   "execution_count": null,
   "metadata": {
    "editable": true
   },
   "outputs": [],
   "source": [
    "log_files = "
   ]
  },
  {
   "cell_type": "code",
   "execution_count": null,
   "metadata": {
    "editable": true
   },
   "outputs": [],
   "source": [
    "filepath = "
   ]
  },
  {
   "cell_type": "code",
   "execution_count": null,
   "metadata": {
    "editable": true
   },
   "outputs": [],
   "source": [
    "df = \n",
    "df.head()"
   ]
  },
  {
   "cell_type": "markdown",
   "metadata": {
    "editable": true
   },
   "source": [
    "## #3: `time` Table\n",
    "#### Extract Data for Time Table\n",
    "- Filter records by `NextSong` action\n",
    "- Convert the `ts` timestamp column to datetime\n",
    "  - Hint: the current timestamp is in milliseconds\n",
    "- Extract the timestamp, hour, day, week of year, month, year, and weekday from the `ts` column and set `time_data` to a list containing these values in order\n",
    "  - Hint: use pandas' [`dt` attribute](https://pandas.pydata.org/pandas-docs/stable/reference/api/pandas.Series.dt.html) to access easily datetimelike properties.\n",
    "- Specify labels for these columns and set to `column_labels`\n",
    "- Create a dataframe, `time_df,` containing the time data for this file by combining `column_labels` and `time_data` into a dictionary and converting this into a dataframe"
   ]
  },
  {
   "cell_type": "code",
   "execution_count": null,
   "metadata": {
    "editable": true
   },
   "outputs": [],
   "source": [
    "df = \n",
    "df.head()"
   ]
  },
  {
   "cell_type": "code",
   "execution_count": null,
   "metadata": {
    "editable": true
   },
   "outputs": [],
   "source": [
    "t = \n",
    "t.head()"
   ]
  },
  {
   "cell_type": "code",
   "execution_count": null,
   "metadata": {
    "editable": true
   },
   "outputs": [],
   "source": [
    "time_data = ()\n",
    "column_labels = ()"
   ]
  },
  {
   "cell_type": "code",
   "execution_count": null,
   "metadata": {
    "editable": true
   },
   "outputs": [],
   "source": [
    "time_df = \n",
    "time_df.head()"
   ]
  },
  {
   "cell_type": "markdown",
   "metadata": {
    "editable": true
   },
   "source": [
    "#### Insert Records into Time Table\n",
    "Implement the `time_table_insert` query in `sql_queries.py` and run the cell below to insert records for the timestamps in this log file into the `time` table. Remember to run `create_tables.py` before running the cell below to ensure you've created/resetted the `time` table in the sparkify database."
   ]
  },
  {
   "cell_type": "code",
   "execution_count": null,
   "metadata": {
    "editable": true
   },
   "outputs": [],
   "source": [
    "for i, row in time_df.iterrows():\n",
    "    cur.execute(time_table_insert, list(row))\n",
    "    conn.commit()"
   ]
  },
  {
   "cell_type": "markdown",
   "metadata": {
    "editable": true
   },
   "source": [
    "Run `test.ipynb` to see if you've successfully added records to this table."
   ]
  },
  {
   "cell_type": "markdown",
   "metadata": {
    "editable": true
   },
   "source": [
    "## #4: `users` Table\n",
    "#### Extract Data for Users Table\n",
    "- Select columns for user ID, first name, last name, gender and level and set to `user_df`"
   ]
  },
  {
   "cell_type": "code",
   "execution_count": null,
   "metadata": {
    "editable": true
   },
   "outputs": [],
   "source": [
    "user_df = "
   ]
  },
  {
   "cell_type": "markdown",
   "metadata": {
    "editable": true
   },
   "source": [
    "#### Insert Records into Users Table\n",
    "Implement the `user_table_insert` query in `sql_queries.py` and run the cell below to insert records for the users in this log file into the `users` table. Remember to run `create_tables.py` before running the cell below to ensure you've created/resetted the `users` table in the sparkify database."
   ]
  },
  {
   "cell_type": "code",
   "execution_count": null,
   "metadata": {
    "editable": true
   },
   "outputs": [],
   "source": [
    "for i, row in user_df.iterrows():\n",
    "    cur.execute(user_table_insert, row)\n",
    "    conn.commit()"
   ]
  },
  {
   "cell_type": "markdown",
   "metadata": {
    "editable": true
   },
   "source": [
    "Run `test.ipynb` to see if you've successfully added records to this table."
   ]
  },
  {
   "cell_type": "markdown",
   "metadata": {
    "editable": true
   },
   "source": [
    "## #5: `songplays` Table\n",
    "#### Extract Data and Songplays Table\n",
    "This one is a little more complicated since information from the songs table, artists table, and original log file are all needed for the `songplays` table. Since the log file does not specify an ID for either the song or the artist, you'll need to get the song ID and artist ID by querying the songs and artists tables to find matches based on song title, artist name, and song duration time.\n",
    "- Implement the `song_select` query in `sql_queries.py` to find the song ID and artist ID based on the title, artist name, and duration of a song.\n",
    "- Select the timestamp, user ID, level, song ID, artist ID, session ID, location, and user agent and set to `songplay_data`\n",
    "\n",
    "#### Insert Records into Songplays Table\n",
    "- Implement the `songplay_table_insert` query and run the cell below to insert records for the songplay actions in this log file into the `songplays` table. Remember to run `create_tables.py` before running the cell below to ensure you've created/resetted the `songplays` table in the sparkify database."
   ]
  },
  {
   "cell_type": "code",
   "execution_count": null,
   "metadata": {
    "editable": true
   },
   "outputs": [],
   "source": [
    "for index, row in df.iterrows():\n",
    "\n",
    "    # get songid and artistid from song and artist tables\n",
    "    cur.execute(song_select, (row.song, row.artist, row.length))\n",
    "    results = cur.fetchone()\n",
    "    \n",
    "    if results:\n",
    "        songid, artistid = results\n",
    "    else:\n",
    "        songid, artistid = None, None\n",
    "\n",
    "    # insert songplay record\n",
    "    songplay_data = ()\n",
    "    cur.execute(songplay_table_insert, songplay_data)\n",
    "    conn.commit()"
   ]
  },
  {
   "cell_type": "markdown",
   "metadata": {
    "editable": true
   },
   "source": [
    "Run `test.ipynb` to see if you've successfully added records to this table."
   ]
  },
  {
   "cell_type": "markdown",
   "metadata": {
    "editable": true
   },
   "source": [
    "# Close Connection to Sparkify Database"
   ]
  },
  {
   "cell_type": "code",
   "execution_count": null,
   "metadata": {
    "editable": true
   },
   "outputs": [],
   "source": [
    "conn.close()"
   ]
  },
  {
   "cell_type": "markdown",
   "metadata": {
    "editable": true
   },
   "source": [
    "# Implement `etl.py`\n",
    "Use what you've completed in this notebook to implement `etl.py`."
   ]
  },
  {
   "cell_type": "markdown",
   "metadata": {
    "editable": true
   },
   "source": [
    "#### Upgrade Postgres Version\n",
    "\n",
    "This will upgrade the Postgres version from 9.x to 13.x so that we can use newer features like generated columns and not have to convert things in application code that can be done automatically in the DB."
   ]
  },
  {
   "cell_type": "code",
   "execution_count": 1,
   "metadata": {
    "editable": true
   },
   "outputs": [
    {
     "name": "stdout",
     "output_type": "stream",
     "text": [
      " * Stopping PostgreSQL 9.5 database server\n",
      "   ...done.\n",
      "Synchronizing state of postgresql.service with SysV init with /lib/systemd/systemd-sysv-install...\n",
      "Executing /lib/systemd/systemd-sysv-install disable postgresql\n",
      "insserv: warning: current start runlevel(s) (empty) of script `postgresql' overrides LSB defaults (2 3 4 5).\n",
      "insserv: warning: current stop runlevel(s) (0 1 2 3 4 5 6) of script `postgresql' overrides LSB defaults (0 1 6).\n",
      "gpg: no valid OpenPGP data found.\n",
      "Get:1 http://ppa.launchpad.net/ubuntu-toolchain-r/test/ubuntu xenial InRelease [23.8 kB]\n",
      "Get:2 http://security.ubuntu.com/ubuntu xenial-security InRelease [109 kB]     \n",
      "Get:3 http://apt.postgresql.org/pub/repos/apt xenial-pgdg InRelease [76.6 kB]  \n",
      "Hit:4 http://archive.ubuntu.com/ubuntu xenial InRelease                        \n",
      "Get:6 http://archive.ubuntu.com/ubuntu xenial-updates InRelease [109 kB]       \n",
      "Hit:7 https://deb.nodesource.com/node_11.x xenial InRelease                    \n",
      "Get:8 https://cli-assets.heroku.com/apt ./ InRelease [2,879 B]\n",
      "Get:9 http://archive.ubuntu.com/ubuntu xenial-backports InRelease [107 kB]\n",
      "Ign:3 http://apt.postgresql.org/pub/repos/apt xenial-pgdg InRelease           \n",
      "Get:10 http://ppa.launchpad.net/ubuntu-toolchain-r/test/ubuntu xenial/main amd64 Packages [108 kB]\n",
      "Get:5 https://downloads.apache.org/cassandra/debian 311x InRelease [3,903 B]   \n",
      "Get:11 http://apt.postgresql.org/pub/repos/apt xenial-pgdg/main amd64 Packages [280 kB]\n",
      "Get:12 http://security.ubuntu.com/ubuntu xenial-security/main amd64 Packages [2,051 kB]\n",
      "Get:13 http://archive.ubuntu.com/ubuntu xenial-updates/main amd64 Packages [2,560 kB]\n",
      "Get:14 http://security.ubuntu.com/ubuntu xenial-security/restricted amd64 Packages [15.9 kB]\n",
      "Get:15 http://security.ubuntu.com/ubuntu xenial-security/universe amd64 Packages [984 kB]\n",
      "Get:16 http://security.ubuntu.com/ubuntu xenial-security/multiverse amd64 Packages [8,820 B]\n",
      "Get:17 http://archive.ubuntu.com/ubuntu xenial-updates/restricted amd64 Packages [16.4 kB]\n",
      "Get:18 http://archive.ubuntu.com/ubuntu xenial-updates/universe amd64 Packages [1,544 kB]\n",
      "Get:19 http://archive.ubuntu.com/ubuntu xenial-updates/multiverse amd64 Packages [26.2 kB]\n",
      "Err:8 https://cli-assets.heroku.com/apt ./ InRelease                           \n",
      "  The following signatures couldn't be verified because the public key is not available: NO_PUBKEY 6DB5542C356545CF\n",
      "Get:20 http://archive.ubuntu.com/ubuntu xenial-backports/main amd64 Packages [10.9 kB]\n",
      "Get:21 http://archive.ubuntu.com/ubuntu xenial-backports/universe amd64 Packages [12.7 kB]\n",
      "Err:5 https://downloads.apache.org/cassandra/debian 311x InRelease\n",
      "  The following signatures couldn't be verified because the public key is not available: NO_PUBKEY 5E85B9AE0B84C041\n",
      "Fetched 8,049 kB in 4s (1,917 kB/s)                  \n",
      "Reading package lists... Done\n",
      "W: GPG error: http://apt.postgresql.org/pub/repos/apt xenial-pgdg InRelease: The following signatures couldn't be verified because the public key is not available: NO_PUBKEY 7FCC7D46ACCC4CF8\n",
      "W: The repository 'http://apt.postgresql.org/pub/repos/apt xenial-pgdg InRelease' is not signed.\n",
      "N: Data from such a repository can't be authenticated and is therefore potentially dangerous to use.\n",
      "N: See apt-secure(8) manpage for repository creation and user configuration details.\n",
      "W: An error occurred during the signature verification. The repository is not updated and the previous index files will be used. GPG error: https://cli-assets.heroku.com/apt ./ InRelease: The following signatures couldn't be verified because the public key is not available: NO_PUBKEY 6DB5542C356545CF\n",
      "W: An error occurred during the signature verification. The repository is not updated and the previous index files will be used. GPG error: https://downloads.apache.org/cassandra/debian 311x InRelease: The following signatures couldn't be verified because the public key is not available: NO_PUBKEY 5E85B9AE0B84C041\n",
      "W: Failed to fetch http://downloads.apache.org/cassandra/debian/dists/311x/InRelease  The following signatures couldn't be verified because the public key is not available: NO_PUBKEY 5E85B9AE0B84C041\n",
      "W: Failed to fetch https://cli-assets.heroku.com/apt/./InRelease  The following signatures couldn't be verified because the public key is not available: NO_PUBKEY 6DB5542C356545CF\n",
      "W: Some index files failed to download. They have been ignored, or old ones used instead.\n",
      "Reading package lists... Done\n",
      "Building dependency tree       \n",
      "Reading state information... Done\n",
      "The following packages were automatically installed and are no longer required:\n",
      "  comerr-dev dctrl-tools krb5-multidev libgssrpc4 libkadm5clnt-mit9\n",
      "  libkadm5srv-mit9 libkdb5-8 libssl-dev libssl-doc\n",
      "Use 'apt autoremove' to remove them.\n",
      "The following additional packages will be installed:\n",
      "  binfmt-support clang-6.0 gcc-9-base lib32gcc1 lib32stdc++6 libatomic1\n",
      "  libc-dev-bin libc6 libc6-dev libc6-i386 libcc1-0 libclang-common-6.0-dev\n",
      "  libclang1-6.0 libcommon-sense-perl libffi-dev libgcc1 libgomp1 libitm1\n",
      "  libjson-perl libjson-xs-perl liblsan0 libobjc-5-dev libobjc4 libomp-dev\n",
      "  libomp5 libpq-dev libpq5 libquadmath0 libstdc++6 libtinfo-dev libtsan0\n",
      "  libtypes-serialiser-perl llvm-6.0 llvm-6.0-dev llvm-6.0-runtime pgdg-keyring\n",
      "  postgresql-13 postgresql-client-10 postgresql-client-11 postgresql-client-12\n",
      "  postgresql-client-13 postgresql-client-9.6 postgresql-client-common\n",
      "  postgresql-common postgresql-server-dev-10 postgresql-server-dev-11\n",
      "  postgresql-server-dev-12 postgresql-server-dev-13 postgresql-server-dev-9.6\n",
      "  postgresql-server-dev-all\n",
      "Suggested packages:\n",
      "  gnustep gnustep-devel clang-6.0-doc glibc-doc manpages-dev postgresql-doc-13\n",
      "  llvm-6.0-doc postgresql-doc postgresql-10 postgresql-doc-10 postgresql-11\n",
      "  postgresql-doc-11 postgresql-12 postgresql-doc-12 postgresql-9.6\n",
      "  postgresql-doc-9.6\n",
      "Recommended packages:\n",
      "  manpages manpages-dev\n",
      "The following NEW packages will be installed:\n",
      "  binfmt-support clang-6.0 lib32gcc1 lib32stdc++6 libc6-i386\n",
      "  libclang-common-6.0-dev libclang1-6.0 libcommon-sense-perl libffi-dev\n",
      "  libjson-perl libjson-xs-perl libobjc-5-dev libobjc4 libomp-dev libomp5\n",
      "  libtinfo-dev libtypes-serialiser-perl llvm-6.0 llvm-6.0-dev llvm-6.0-runtime\n",
      "  pgdg-keyring postgresql-13 postgresql-client-10 postgresql-client-11\n",
      "  postgresql-client-12 postgresql-client-13 postgresql-client-9.6\n",
      "  postgresql-server-dev-10 postgresql-server-dev-11 postgresql-server-dev-12\n",
      "  postgresql-server-dev-13 postgresql-server-dev-9.6\n",
      "The following packages will be upgraded:\n",
      "  gcc-9-base libatomic1 libc-dev-bin libc6 libc6-dev libcc1-0 libgcc1 libgomp1\n",
      "  libitm1 liblsan0 libpq-dev libpq5 libquadmath0 libstdc++6 libtsan0\n",
      "  postgresql postgresql-client-common postgresql-common postgresql-contrib\n",
      "  postgresql-server-dev-all\n",
      "20 upgraded, 32 newly installed, 0 to remove and 114 not upgraded.\n",
      "Need to get 83.1 MB of archives.\n",
      "After this operation, 417 MB of additional disk space will be used.\n",
      "WARNING: The following packages cannot be authenticated!\n",
      "  libpq-dev libpq5 pgdg-keyring postgresql-client-common postgresql-client-13\n",
      "  postgresql-client-9.6 postgresql-server-dev-9.6 postgresql-client-10\n",
      "  postgresql-server-dev-all postgresql-server-dev-10 postgresql-client-11\n",
      "  postgresql-server-dev-11 postgresql-client-12 postgresql-server-dev-12\n",
      "  postgresql-server-dev-13 postgresql-common postgresql-13 postgresql\n",
      "  postgresql-contrib\n",
      "Authentication warning overridden.\n",
      "Get:1 http://apt.postgresql.org/pub/repos/apt xenial-pgdg/main amd64 libpq-dev amd64 13.3-1.pgdg16.04+1 [138 kB]\n",
      "Get:2 http://ppa.launchpad.net/ubuntu-toolchain-r/test/ubuntu xenial/main amd64 libquadmath0 amd64 9.4.0-1ubuntu1~16.04 [145 kB]\n",
      "Get:3 http://archive.ubuntu.com/ubuntu xenial-updates/main amd64 libc6-dev amd64 2.23-0ubuntu11.3 [2,083 kB]\n",
      "Get:4 http://apt.postgresql.org/pub/repos/apt xenial-pgdg/main amd64 libpq5 amd64 13.3-1.pgdg16.04+1 [176 kB]\n",
      "Get:5 http://apt.postgresql.org/pub/repos/apt xenial-pgdg/main amd64 pgdg-keyring all 2018.2 [10.7 kB]\n",
      "Get:6 http://apt.postgresql.org/pub/repos/apt xenial-pgdg/main amd64 postgresql-client-common all 226.pgdg16.04+1 [90.5 kB]\n",
      "Get:7 http://apt.postgresql.org/pub/repos/apt xenial-pgdg/main amd64 postgresql-client-13 amd64 13.3-1.pgdg16.04+1 [1,494 kB]\n",
      "Get:8 http://ppa.launchpad.net/ubuntu-toolchain-r/test/ubuntu xenial/main amd64 libitm1 amd64 9.4.0-1ubuntu1~16.04 [27.8 kB]\n",
      "Get:9 http://apt.postgresql.org/pub/repos/apt xenial-pgdg/main amd64 postgresql-client-9.6 amd64 9.6.22-1.pgdg16.04+1 [1,353 kB]\n",
      "Get:10 http://apt.postgresql.org/pub/repos/apt xenial-pgdg/main amd64 postgresql-server-dev-9.6 amd64 9.6.22-1.pgdg16.04+1 [786 kB]\n",
      "Get:11 http://apt.postgresql.org/pub/repos/apt xenial-pgdg/main amd64 postgresql-client-10 amd64 10.17-1.pgdg16.04+1 [1,433 kB]\n",
      "Get:12 http://apt.postgresql.org/pub/repos/apt xenial-pgdg/main amd64 postgresql-server-dev-all all 226.pgdg16.04+1 [75.6 kB]\n",
      "Get:13 http://apt.postgresql.org/pub/repos/apt xenial-pgdg/main amd64 postgresql-server-dev-10 amd64 10.17-1.pgdg16.04+1 [883 kB]\n",
      "Get:14 http://apt.postgresql.org/pub/repos/apt xenial-pgdg/main amd64 postgresql-client-11 amd64 11.12-1.pgdg16.04+1 [1,479 kB]\n",
      "Get:15 http://ppa.launchpad.net/ubuntu-toolchain-r/test/ubuntu xenial/main amd64 gcc-9-base amd64 9.4.0-1ubuntu1~16.04 [19.2 kB]\n",
      "Get:16 http://apt.postgresql.org/pub/repos/apt xenial-pgdg/main amd64 postgresql-server-dev-11 amd64 11.12-1.pgdg16.04+1 [862 kB]\n",
      "Get:17 http://archive.ubuntu.com/ubuntu xenial-updates/main amd64 libc-dev-bin amd64 2.23-0ubuntu11.3 [68.6 kB]\n",
      "Get:18 http://archive.ubuntu.com/ubuntu xenial-updates/main amd64 libc6 amd64 2.23-0ubuntu11.3 [2,590 kB]\n",
      "Get:19 http://apt.postgresql.org/pub/repos/apt xenial-pgdg/main amd64 postgresql-client-12 amd64 12.7-1.pgdg16.04+1 [1,416 kB]\n",
      "Get:20 http://apt.postgresql.org/pub/repos/apt xenial-pgdg/main amd64 postgresql-server-dev-12 amd64 12.7-1.pgdg16.04+1 [922 kB]\n",
      "Get:21 http://apt.postgresql.org/pub/repos/apt xenial-pgdg/main amd64 postgresql-server-dev-13 amd64 13.3-1.pgdg16.04+1 [965 kB]\n",
      "Get:22 http://archive.ubuntu.com/ubuntu xenial/main amd64 binfmt-support amd64 2.1.6-1 [50.7 kB]\n",
      "Get:23 http://archive.ubuntu.com/ubuntu xenial-updates/main amd64 libc6-i386 amd64 2.23-0ubuntu11.3 [2,337 kB]\n",
      "Get:24 http://ppa.launchpad.net/ubuntu-toolchain-r/test/ubuntu xenial/main amd64 libstdc++6 amd64 9.4.0-1ubuntu1~16.04 [517 kB]\n",
      "Get:25 http://apt.postgresql.org/pub/repos/apt xenial-pgdg/main amd64 postgresql-common all 226.pgdg16.04+1 [249 kB]\n",
      "Get:26 http://apt.postgresql.org/pub/repos/apt xenial-pgdg/main amd64 postgresql-13 amd64 13.3-1.pgdg16.04+1 [14.8 MB]\n",
      "Get:27 http://archive.ubuntu.com/ubuntu xenial-updates/universe amd64 libclang-common-6.0-dev amd64 1:6.0-1ubuntu2~16.04.1 [3,075 kB]\n",
      "Get:28 http://archive.ubuntu.com/ubuntu xenial-updates/main amd64 libclang1-6.0 amd64 1:6.0-1ubuntu2~16.04.1 [6,774 kB]\n",
      "Get:29 http://apt.postgresql.org/pub/repos/apt xenial-pgdg/main amd64 postgresql all 13+226.pgdg16.04+1 [65.2 kB]\n",
      "Get:30 http://apt.postgresql.org/pub/repos/apt xenial-pgdg/main amd64 postgresql-contrib all 13+226.pgdg16.04+1 [65.2 kB]\n",
      "Get:31 http://ppa.launchpad.net/ubuntu-toolchain-r/test/ubuntu xenial/main amd64 liblsan0 amd64 9.4.0-1ubuntu1~16.04 [138 kB]\n",
      "Get:32 http://archive.ubuntu.com/ubuntu xenial-updates/universe amd64 clang-6.0 amd64 1:6.0-1ubuntu2~16.04.1 [8,680 kB]\n",
      "Get:33 http://ppa.launchpad.net/ubuntu-toolchain-r/test/ubuntu xenial/main amd64 libtsan0 amd64 9.4.0-1ubuntu1~16.04 [301 kB]\n",
      "Get:34 http://archive.ubuntu.com/ubuntu xenial/main amd64 libcommon-sense-perl amd64 3.74-1build1 [20.6 kB]\n",
      "Get:35 http://archive.ubuntu.com/ubuntu xenial/main amd64 libjson-perl all 2.90-1 [79.4 kB]\n",
      "Get:36 http://archive.ubuntu.com/ubuntu xenial/main amd64 libtypes-serialiser-perl all 1.0-1 [12.1 kB]\n",
      "Get:37 http://archive.ubuntu.com/ubuntu xenial/main amd64 libjson-xs-perl amd64 3.010-2build1 [78.1 kB]\n",
      "Get:38 http://archive.ubuntu.com/ubuntu xenial/main amd64 libtinfo-dev amd64 6.0+20160213-1ubuntu1 [77.4 kB]\n",
      "Get:39 http://archive.ubuntu.com/ubuntu xenial-updates/main amd64 llvm-6.0-runtime amd64 1:6.0-1ubuntu2~16.04.1 [203 kB]\n",
      "Get:40 http://archive.ubuntu.com/ubuntu xenial-updates/main amd64 llvm-6.0 amd64 1:6.0-1ubuntu2~16.04.1 [3,870 kB]\n",
      "Get:41 http://archive.ubuntu.com/ubuntu xenial/main amd64 libffi-dev amd64 3.2.1-4 [161 kB]\n",
      "Get:42 http://archive.ubuntu.com/ubuntu xenial-updates/main amd64 llvm-6.0-dev amd64 1:6.0-1ubuntu2~16.04.1 [23.1 MB]\n",
      "Get:43 http://ppa.launchpad.net/ubuntu-toolchain-r/test/ubuntu xenial/main amd64 libcc1-0 amd64 9.4.0-1ubuntu1~16.04 [40.3 kB]\n",
      "Get:44 http://ppa.launchpad.net/ubuntu-toolchain-r/test/ubuntu xenial/main amd64 libatomic1 amd64 9.4.0-1ubuntu1~16.04 [9,098 B]\n",
      "Get:45 http://ppa.launchpad.net/ubuntu-toolchain-r/test/ubuntu xenial/main amd64 libgomp1 amd64 9.4.0-1ubuntu1~16.04 [89.1 kB]\n",
      "Get:46 http://archive.ubuntu.com/ubuntu xenial/universe amd64 libomp5 amd64 3.7.0-3 [197 kB]\n",
      "Get:47 http://archive.ubuntu.com/ubuntu xenial/universe amd64 libomp-dev amd64 3.7.0-3 [4,762 B]\n",
      "Get:48 http://ppa.launchpad.net/ubuntu-toolchain-r/test/ubuntu xenial/main amd64 libgcc1 amd64 1:9.4.0-1ubuntu1~16.04 [40.6 kB]\n",
      "Get:49 http://ppa.launchpad.net/ubuntu-toolchain-r/test/ubuntu xenial/main amd64 libobjc4 amd64 9.4.0-1ubuntu1~16.04 [48.9 kB]\n",
      "Get:50 http://ppa.launchpad.net/ubuntu-toolchain-r/test/ubuntu xenial/main amd64 libobjc-5-dev amd64 5.5.0-12ubuntu1~16.04 [381 kB]\n",
      "Get:51 http://ppa.launchpad.net/ubuntu-toolchain-r/test/ubuntu xenial/main amd64 lib32gcc1 amd64 1:9.4.0-1ubuntu1~16.04 [47.8 kB]\n",
      "Get:52 http://ppa.launchpad.net/ubuntu-toolchain-r/test/ubuntu xenial/main amd64 lib32stdc++6 amd64 9.4.0-1ubuntu1~16.04 [540 kB]\n",
      "Fetched 83.1 MB in 7s (11.1 MB/s)                                              \n",
      "debconf: unable to initialize frontend: Dialog\n",
      "debconf: (No usable dialog-like program is installed, so the dialog based frontend cannot be used. at /usr/share/perl5/Debconf/FrontEnd/Dialog.pm line 76, <> line 52.)\n",
      "debconf: falling back to frontend: Readline\n",
      "Extracting templates from packages: 100%\n",
      "Preconfiguring packages ...\n",
      "(Reading database ... 166694 files and directories currently installed.)\n",
      "Preparing to unpack .../libc6-dev_2.23-0ubuntu11.3_amd64.deb ...\n",
      "Unpacking libc6-dev:amd64 (2.23-0ubuntu11.3) over (2.23-0ubuntu11.2) ...\n",
      "Preparing to unpack .../libc-dev-bin_2.23-0ubuntu11.3_amd64.deb ...\n",
      "Unpacking libc-dev-bin (2.23-0ubuntu11.3) over (2.23-0ubuntu11.2) ...\n",
      "Preparing to unpack .../libquadmath0_9.4.0-1ubuntu1~16.04_amd64.deb ...\n",
      "Unpacking libquadmath0:amd64 (9.4.0-1ubuntu1~16.04) over (9.3.0-10ubuntu2~16.04) ...\n",
      "Preparing to unpack .../libitm1_9.4.0-1ubuntu1~16.04_amd64.deb ...\n",
      "Unpacking libitm1:amd64 (9.4.0-1ubuntu1~16.04) over (9.3.0-10ubuntu2~16.04) ...\n",
      "Preparing to unpack .../gcc-9-base_9.4.0-1ubuntu1~16.04_amd64.deb ...\n",
      "Unpacking gcc-9-base:amd64 (9.4.0-1ubuntu1~16.04) over (9.3.0-10ubuntu2~16.04) ...\n",
      "Processing triggers for man-db (2.7.5-1) ...\n",
      "Processing triggers for libc-bin (2.23-0ubuntu11.2) ...\n",
      "Setting up gcc-9-base:amd64 (9.4.0-1ubuntu1~16.04) ...\n",
      "(Reading database ... 166694 files and directories currently installed.)\n",
      "Preparing to unpack .../libstdc++6_9.4.0-1ubuntu1~16.04_amd64.deb ...\n",
      "Unpacking libstdc++6:amd64 (9.4.0-1ubuntu1~16.04) over (9.3.0-10ubuntu2~16.04) ...\n",
      "Processing triggers for libc-bin (2.23-0ubuntu11.2) ...\n",
      "Setting up libstdc++6:amd64 (9.4.0-1ubuntu1~16.04) ...\n",
      "Processing triggers for libc-bin (2.23-0ubuntu11.2) ...\n",
      "(Reading database ... 166694 files and directories currently installed.)\n",
      "Preparing to unpack .../liblsan0_9.4.0-1ubuntu1~16.04_amd64.deb ...\n",
      "Unpacking liblsan0:amd64 (9.4.0-1ubuntu1~16.04) over (9.3.0-10ubuntu2~16.04) ...\n",
      "Preparing to unpack .../libtsan0_9.4.0-1ubuntu1~16.04_amd64.deb ...\n",
      "Unpacking libtsan0:amd64 (9.4.0-1ubuntu1~16.04) over (9.3.0-10ubuntu2~16.04) ...\n",
      "Preparing to unpack .../libcc1-0_9.4.0-1ubuntu1~16.04_amd64.deb ...\n",
      "Unpacking libcc1-0:amd64 (9.4.0-1ubuntu1~16.04) over (9.3.0-10ubuntu2~16.04) ...\n",
      "Preparing to unpack .../libatomic1_9.4.0-1ubuntu1~16.04_amd64.deb ...\n",
      "Unpacking libatomic1:amd64 (9.4.0-1ubuntu1~16.04) over (9.3.0-10ubuntu2~16.04) ...\n",
      "Preparing to unpack .../libgomp1_9.4.0-1ubuntu1~16.04_amd64.deb ...\n",
      "Unpacking libgomp1:amd64 (9.4.0-1ubuntu1~16.04) over (9.3.0-10ubuntu2~16.04) ...\n",
      "Preparing to unpack .../libgcc1_1%3a9.4.0-1ubuntu1~16.04_amd64.deb ...\n",
      "Unpacking libgcc1:amd64 (1:9.4.0-1ubuntu1~16.04) over (1:9.3.0-10ubuntu2~16.04) ...\n",
      "Processing triggers for libc-bin (2.23-0ubuntu11.2) ...\n",
      "Setting up libgcc1:amd64 (1:9.4.0-1ubuntu1~16.04) ...\n",
      "Processing triggers for libc-bin (2.23-0ubuntu11.2) ...\n",
      "(Reading database ... 166694 files and directories currently installed.)\n",
      "Preparing to unpack .../libc6_2.23-0ubuntu11.3_amd64.deb ...\n",
      "debconf: unable to initialize frontend: Dialog\n",
      "debconf: (No usable dialog-like program is installed, so the dialog based frontend cannot be used. at /usr/share/perl5/Debconf/FrontEnd/Dialog.pm line 76.)\n",
      "debconf: falling back to frontend: Readline\n",
      "Unpacking libc6:amd64 (2.23-0ubuntu11.3) over (2.23-0ubuntu11.2) ...\n",
      "Setting up libc6:amd64 (2.23-0ubuntu11.3) ...\n",
      "debconf: unable to initialize frontend: Dialog\n",
      "debconf: (No usable dialog-like program is installed, so the dialog based frontend cannot be used. at /usr/share/perl5/Debconf/FrontEnd/Dialog.pm line 76.)\n",
      "debconf: falling back to frontend: Readline\n",
      "Processing triggers for libc-bin (2.23-0ubuntu11.2) ...\n",
      "Selecting previously unselected package binfmt-support.\n",
      "(Reading database ... 166694 files and directories currently installed.)\n",
      "Preparing to unpack .../binfmt-support_2.1.6-1_amd64.deb ...\n",
      "Unpacking binfmt-support (2.1.6-1) ...\n",
      "Selecting previously unselected package libobjc4:amd64.\n",
      "Preparing to unpack .../libobjc4_9.4.0-1ubuntu1~16.04_amd64.deb ...\n",
      "Unpacking libobjc4:amd64 (9.4.0-1ubuntu1~16.04) ...\n",
      "Selecting previously unselected package libobjc-5-dev:amd64.\n",
      "Preparing to unpack .../libobjc-5-dev_5.5.0-12ubuntu1~16.04_amd64.deb ...\n",
      "Unpacking libobjc-5-dev:amd64 (5.5.0-12ubuntu1~16.04) ...\n",
      "Selecting previously unselected package libc6-i386.\n",
      "Preparing to unpack .../libc6-i386_2.23-0ubuntu11.3_amd64.deb ...\n",
      "Unpacking libc6-i386 (2.23-0ubuntu11.3) ...\n",
      "Selecting previously unselected package lib32gcc1.\n",
      "Preparing to unpack .../lib32gcc1_1%3a9.4.0-1ubuntu1~16.04_amd64.deb ...\n",
      "Unpacking lib32gcc1 (1:9.4.0-1ubuntu1~16.04) ...\n",
      "Selecting previously unselected package lib32stdc++6.\n",
      "Preparing to unpack .../lib32stdc++6_9.4.0-1ubuntu1~16.04_amd64.deb ...\n",
      "Unpacking lib32stdc++6 (9.4.0-1ubuntu1~16.04) ...\n",
      "Selecting previously unselected package libclang-common-6.0-dev.\n",
      "Preparing to unpack .../libclang-common-6.0-dev_1%3a6.0-1ubuntu2~16.04.1_amd64.deb ...\n",
      "Unpacking libclang-common-6.0-dev (1:6.0-1ubuntu2~16.04.1) ...\n",
      "Selecting previously unselected package libclang1-6.0:amd64.\n",
      "Preparing to unpack .../libclang1-6.0_1%3a6.0-1ubuntu2~16.04.1_amd64.deb ...\n",
      "Unpacking libclang1-6.0:amd64 (1:6.0-1ubuntu2~16.04.1) ...\n",
      "Selecting previously unselected package clang-6.0.\n",
      "Preparing to unpack .../clang-6.0_1%3a6.0-1ubuntu2~16.04.1_amd64.deb ...\n",
      "Unpacking clang-6.0 (1:6.0-1ubuntu2~16.04.1) ...\n",
      "Selecting previously unselected package libcommon-sense-perl.\n",
      "Preparing to unpack .../libcommon-sense-perl_3.74-1build1_amd64.deb ...\n",
      "Unpacking libcommon-sense-perl (3.74-1build1) ...\n",
      "Selecting previously unselected package libjson-perl.\n",
      "Preparing to unpack .../libjson-perl_2.90-1_all.deb ...\n",
      "Unpacking libjson-perl (2.90-1) ...\n",
      "Selecting previously unselected package libtypes-serialiser-perl.\n",
      "Preparing to unpack .../libtypes-serialiser-perl_1.0-1_all.deb ...\n",
      "Unpacking libtypes-serialiser-perl (1.0-1) ...\n",
      "Selecting previously unselected package libjson-xs-perl.\n",
      "Preparing to unpack .../libjson-xs-perl_3.010-2build1_amd64.deb ...\n",
      "Unpacking libjson-xs-perl (3.010-2build1) ...\n",
      "Preparing to unpack .../libpq-dev_13.3-1.pgdg16.04+1_amd64.deb ...\n",
      "Unpacking libpq-dev (13.3-1.pgdg16.04+1) over (9.5.23-0ubuntu0.16.04.1) ...\n",
      "Preparing to unpack .../libpq5_13.3-1.pgdg16.04+1_amd64.deb ...\n",
      "Unpacking libpq5:amd64 (13.3-1.pgdg16.04+1) over (9.5.23-0ubuntu0.16.04.1) ...\n",
      "Selecting previously unselected package libtinfo-dev:amd64.\n",
      "Preparing to unpack .../libtinfo-dev_6.0+20160213-1ubuntu1_amd64.deb ...\n",
      "Unpacking libtinfo-dev:amd64 (6.0+20160213-1ubuntu1) ...\n",
      "Selecting previously unselected package llvm-6.0-runtime.\n",
      "Preparing to unpack .../llvm-6.0-runtime_1%3a6.0-1ubuntu2~16.04.1_amd64.deb ...\n",
      "Unpacking llvm-6.0-runtime (1:6.0-1ubuntu2~16.04.1) ...\n",
      "Selecting previously unselected package llvm-6.0.\n",
      "Preparing to unpack .../llvm-6.0_1%3a6.0-1ubuntu2~16.04.1_amd64.deb ...\n",
      "Unpacking llvm-6.0 (1:6.0-1ubuntu2~16.04.1) ...\n",
      "Selecting previously unselected package libffi-dev:amd64.\n",
      "Preparing to unpack .../libffi-dev_3.2.1-4_amd64.deb ...\n",
      "Unpacking libffi-dev:amd64 (3.2.1-4) ...\n",
      "Selecting previously unselected package llvm-6.0-dev.\n",
      "Preparing to unpack .../llvm-6.0-dev_1%3a6.0-1ubuntu2~16.04.1_amd64.deb ...\n",
      "Unpacking llvm-6.0-dev (1:6.0-1ubuntu2~16.04.1) ...\n",
      "Selecting previously unselected package pgdg-keyring.\n",
      "Preparing to unpack .../pgdg-keyring_2018.2_all.deb ...\n",
      "Unpacking pgdg-keyring (2018.2) ...\n",
      "Preparing to unpack .../postgresql-client-common_226.pgdg16.04+1_all.deb ...\n",
      "Unpacking postgresql-client-common (226.pgdg16.04+1) over (173ubuntu0.3) ...\n",
      "Selecting previously unselected package postgresql-client-13.\n",
      "Preparing to unpack .../postgresql-client-13_13.3-1.pgdg16.04+1_amd64.deb ...\n",
      "Unpacking postgresql-client-13 (13.3-1.pgdg16.04+1) ...\n",
      "Selecting previously unselected package postgresql-client-9.6.\n",
      "Preparing to unpack .../postgresql-client-9.6_9.6.22-1.pgdg16.04+1_amd64.deb ...\n",
      "Unpacking postgresql-client-9.6 (9.6.22-1.pgdg16.04+1) ...\n",
      "Selecting previously unselected package postgresql-server-dev-9.6.\n",
      "Preparing to unpack .../postgresql-server-dev-9.6_9.6.22-1.pgdg16.04+1_amd64.deb ...\n",
      "Unpacking postgresql-server-dev-9.6 (9.6.22-1.pgdg16.04+1) ...\n",
      "Selecting previously unselected package postgresql-client-10.\n",
      "Preparing to unpack .../postgresql-client-10_10.17-1.pgdg16.04+1_amd64.deb ...\n",
      "Unpacking postgresql-client-10 (10.17-1.pgdg16.04+1) ...\n",
      "Preparing to unpack .../postgresql-server-dev-all_226.pgdg16.04+1_all.deb ...\n",
      "Unpacking postgresql-server-dev-all (226.pgdg16.04+1) over (173ubuntu0.3) ...\n",
      "Selecting previously unselected package postgresql-server-dev-10.\n",
      "Preparing to unpack .../postgresql-server-dev-10_10.17-1.pgdg16.04+1_amd64.deb ...\n",
      "Unpacking postgresql-server-dev-10 (10.17-1.pgdg16.04+1) ...\n",
      "Selecting previously unselected package postgresql-client-11.\n",
      "Preparing to unpack .../postgresql-client-11_11.12-1.pgdg16.04+1_amd64.deb ...\n",
      "Unpacking postgresql-client-11 (11.12-1.pgdg16.04+1) ...\n",
      "Selecting previously unselected package postgresql-server-dev-11.\n",
      "Preparing to unpack .../postgresql-server-dev-11_11.12-1.pgdg16.04+1_amd64.deb ...\n",
      "Unpacking postgresql-server-dev-11 (11.12-1.pgdg16.04+1) ...\n",
      "Selecting previously unselected package postgresql-client-12.\n",
      "Preparing to unpack .../postgresql-client-12_12.7-1.pgdg16.04+1_amd64.deb ...\n",
      "Unpacking postgresql-client-12 (12.7-1.pgdg16.04+1) ...\n",
      "Selecting previously unselected package postgresql-server-dev-12.\n",
      "Preparing to unpack .../postgresql-server-dev-12_12.7-1.pgdg16.04+1_amd64.deb ...\n",
      "Unpacking postgresql-server-dev-12 (12.7-1.pgdg16.04+1) ...\n",
      "Selecting previously unselected package postgresql-server-dev-13.\n",
      "Preparing to unpack .../postgresql-server-dev-13_13.3-1.pgdg16.04+1_amd64.deb ...\n",
      "Unpacking postgresql-server-dev-13 (13.3-1.pgdg16.04+1) ...\n",
      "Preparing to unpack .../postgresql-common_226.pgdg16.04+1_all.deb ...\n",
      "Leaving 'diversion of /usr/bin/pg_config to /usr/bin/pg_config.libpq-dev by postgresql-common'\n",
      "Unpacking postgresql-common (226.pgdg16.04+1) over (173ubuntu0.3) ...\n",
      "Selecting previously unselected package postgresql-13.\n",
      "Preparing to unpack .../postgresql-13_13.3-1.pgdg16.04+1_amd64.deb ...\n",
      "Unpacking postgresql-13 (13.3-1.pgdg16.04+1) ...\n",
      "Preparing to unpack .../postgresql_13+226.pgdg16.04+1_all.deb ...\n",
      "Unpacking postgresql (13+226.pgdg16.04+1) over (9.5+173ubuntu0.3) ...\n",
      "Preparing to unpack .../postgresql-contrib_13+226.pgdg16.04+1_all.deb ...\n",
      "Unpacking postgresql-contrib (13+226.pgdg16.04+1) over (9.5+173ubuntu0.3) ...\n",
      "Selecting previously unselected package libomp5:amd64.\n",
      "Preparing to unpack .../libomp5_3.7.0-3_amd64.deb ...\n",
      "Unpacking libomp5:amd64 (3.7.0-3) ...\n",
      "Selecting previously unselected package libomp-dev.\n",
      "Preparing to unpack .../libomp-dev_3.7.0-3_amd64.deb ...\n",
      "Unpacking libomp-dev (3.7.0-3) ...\n",
      "Processing triggers for systemd (229-4ubuntu21.29) ...\n",
      "Processing triggers for man-db (2.7.5-1) ...\n",
      "Processing triggers for libc-bin (2.23-0ubuntu11.2) ...\n",
      "Setting up libc-dev-bin (2.23-0ubuntu11.3) ...\n",
      "Setting up libc6-dev:amd64 (2.23-0ubuntu11.3) ...\n",
      "Setting up libquadmath0:amd64 (9.4.0-1ubuntu1~16.04) ...\n",
      "Setting up libitm1:amd64 (9.4.0-1ubuntu1~16.04) ...\n",
      "Setting up liblsan0:amd64 (9.4.0-1ubuntu1~16.04) ...\n",
      "Setting up libtsan0:amd64 (9.4.0-1ubuntu1~16.04) ...\n",
      "Setting up libcc1-0:amd64 (9.4.0-1ubuntu1~16.04) ...\n",
      "Setting up libatomic1:amd64 (9.4.0-1ubuntu1~16.04) ...\n",
      "Setting up libgomp1:amd64 (9.4.0-1ubuntu1~16.04) ...\n",
      "Setting up binfmt-support (2.1.6-1) ...\n",
      "update-binfmts: warning: Couldn't load the binfmt_misc module.\n",
      "update-binfmts: warning: Couldn't load the binfmt_misc module.\n",
      "update-binfmts: warning: Couldn't load the binfmt_misc module.\n",
      "update-binfmts: warning: Couldn't load the binfmt_misc module.\n",
      "invoke-rc.d: could not determine current runlevel\n",
      "invoke-rc.d: policy-rc.d denied execution of start.\n",
      "Setting up libobjc4:amd64 (9.4.0-1ubuntu1~16.04) ...\n",
      "Setting up libobjc-5-dev:amd64 (5.5.0-12ubuntu1~16.04) ...\n",
      "Setting up libc6-i386 (2.23-0ubuntu11.3) ...\n",
      "Setting up lib32gcc1 (1:9.4.0-1ubuntu1~16.04) ...\n",
      "Setting up lib32stdc++6 (9.4.0-1ubuntu1~16.04) ...\n",
      "Setting up libclang-common-6.0-dev (1:6.0-1ubuntu2~16.04.1) ...\n",
      "Setting up libclang1-6.0:amd64 (1:6.0-1ubuntu2~16.04.1) ...\n",
      "Setting up clang-6.0 (1:6.0-1ubuntu2~16.04.1) ...\n",
      "Setting up libcommon-sense-perl (3.74-1build1) ...\n",
      "Setting up libjson-perl (2.90-1) ...\n",
      "Setting up libtypes-serialiser-perl (1.0-1) ...\n",
      "Setting up libjson-xs-perl (3.010-2build1) ...\n",
      "Setting up libpq5:amd64 (13.3-1.pgdg16.04+1) ...\n",
      "Setting up libpq-dev (13.3-1.pgdg16.04+1) ...\n",
      "Setting up libtinfo-dev:amd64 (6.0+20160213-1ubuntu1) ...\n",
      "Setting up llvm-6.0-runtime (1:6.0-1ubuntu2~16.04.1) ...\n",
      "update-binfmts: warning: Couldn't load the binfmt_misc module.\n",
      "Setting up llvm-6.0 (1:6.0-1ubuntu2~16.04.1) ...\n",
      "Setting up libffi-dev:amd64 (3.2.1-4) ...\n",
      "Setting up llvm-6.0-dev (1:6.0-1ubuntu2~16.04.1) ...\n",
      "Setting up pgdg-keyring (2018.2) ...\n",
      "Setting up postgresql-client-common (226.pgdg16.04+1) ...\n",
      "Installing new version of config file /etc/postgresql-common/user_clusters ...\n",
      "Setting up postgresql-client-13 (13.3-1.pgdg16.04+1) ...\n",
      "update-alternatives: using /usr/share/postgresql/13/man/man1/psql.1.gz to provide /usr/share/man/man1/psql.1.gz (psql.1.gz) in auto mode\n",
      "Setting up postgresql-client-9.6 (9.6.22-1.pgdg16.04+1) ...\n",
      "Setting up postgresql-common (226.pgdg16.04+1) ...\n",
      "debconf: unable to initialize frontend: Dialog\n",
      "debconf: (No usable dialog-like program is installed, so the dialog based frontend cannot be used. at /usr/share/perl5/Debconf/FrontEnd/Dialog.pm line 76.)\n",
      "debconf: falling back to frontend: Readline\n",
      "Configuring postgresql-common\n",
      "-----------------------------\n",
      "\n",
      "Obsolete major version 9.5\n",
      "\n",
      "The PostgreSQL version 9.5 is obsolete, but the server or client packages are\n",
      "still installed. Please install the latest packages (postgresql-13 and\n",
      "postgresql-client-13) and upgrade the existing  clusters with pg_upgradecluster\n",
      "(see manpage).\n",
      "\n",
      "Please be aware that the installation of postgresql-13 will automatically\n",
      "create a default cluster 13/main. If you want to upgrade the 9.5/main cluster,\n",
      "you need to remove the already existing 13 cluster (pg_dropcluster --stop 13\n",
      "main, see manpage for details).\n",
      "\n",
      "The old server and client packages are no longer supported. After the existing\n",
      "clusters are upgraded, the postgresql-9.5 and postgresql-client-9.5 packages\n",
      "should be removed.\n",
      "\n",
      "Please see /usr/share/doc/postgresql-common/README.Debian.gz for details.\n",
      "\n",
      "Replacing config file /etc/postgresql-common/createcluster.conf with new version\n",
      "insserv: warning: current start runlevel(s) (empty) of script `postgresql' overrides LSB defaults (2 3 4 5).\n",
      "insserv: warning: current stop runlevel(s) (0 1 2 3 4 5 6) of script `postgresql' overrides LSB defaults (0 1 6).\n",
      "invoke-rc.d: could not determine current runlevel\n",
      "invoke-rc.d: policy-rc.d denied execution of start.\n",
      "Setting up postgresql-server-dev-9.6 (9.6.22-1.pgdg16.04+1) ...\n",
      "Setting up postgresql-client-10 (10.17-1.pgdg16.04+1) ...\n",
      "Setting up postgresql-server-dev-10 (10.17-1.pgdg16.04+1) ...\n",
      "Setting up postgresql-client-11 (11.12-1.pgdg16.04+1) ...\n",
      "Setting up postgresql-server-dev-11 (11.12-1.pgdg16.04+1) ...\n",
      "Setting up postgresql-client-12 (12.7-1.pgdg16.04+1) ...\n",
      "Setting up postgresql-server-dev-12 (12.7-1.pgdg16.04+1) ...\n",
      "Setting up postgresql-server-dev-13 (13.3-1.pgdg16.04+1) ...\n",
      "Setting up postgresql-server-dev-all (226.pgdg16.04+1) ...\n",
      "Setting up postgresql-13 (13.3-1.pgdg16.04+1) ...\n",
      "debconf: unable to initialize frontend: Dialog\n",
      "debconf: (No usable dialog-like program is installed, so the dialog based frontend cannot be used. at /usr/share/perl5/Debconf/FrontEnd/Dialog.pm line 76.)\n",
      "debconf: falling back to frontend: Readline\n",
      "Creating new PostgreSQL cluster 13/main ...\n",
      "/usr/lib/postgresql/13/bin/initdb -D /var/lib/postgresql/13/main --auth-local peer --auth-host md5\n",
      "The files belonging to this database system will be owned by user \"postgres\".\n",
      "This user must also own the server process.\n",
      "\n",
      "The database cluster will be initialized with locale \"C.UTF-8\".\n",
      "The default database encoding has accordingly been set to \"UTF8\".\n",
      "The default text search configuration will be set to \"english\".\n",
      "\n",
      "Data page checksums are disabled.\n",
      "\n",
      "fixing permissions on existing directory /var/lib/postgresql/13/main ... ok\n",
      "creating subdirectories ... ok\n",
      "selecting dynamic shared memory implementation ... posix\n",
      "selecting default max_connections ... 100\n",
      "selecting default shared_buffers ... 128MB\n",
      "selecting default time zone ... Etc/UTC\n",
      "creating configuration files ... ok\n",
      "running bootstrap script ... ok\n",
      "performing post-bootstrap initialization ... ok\n",
      "syncing data to disk ... ok\n",
      "\n",
      "Success. You can now start the database server using:\n",
      "\n",
      "    pg_ctlcluster 13 main start\n",
      "\n",
      "Ver Cluster Port Status Owner    Data directory              Log file\n",
      "\u001b[31m13  main    5433 down   postgres /var/lib/postgresql/13/main /var/log/postgresql/postgresql-13-main.log\u001b[0m\n",
      "update-alternatives: using /usr/share/postgresql/13/man/man1/postmaster.1.gz to provide /usr/share/man/man1/postmaster.1.gz (postmaster.1.gz) in auto mode\n",
      "invoke-rc.d: could not determine current runlevel\n",
      "invoke-rc.d: policy-rc.d denied execution of start.\n",
      "Setting up postgresql (13+226.pgdg16.04+1) ...\n",
      "Setting up postgresql-contrib (13+226.pgdg16.04+1) ...\n",
      "Setting up libomp5:amd64 (3.7.0-3) ...\n",
      "Setting up libomp-dev (3.7.0-3) ...\n",
      "Processing triggers for libc-bin (2.23-0ubuntu11.2) ...\n",
      "Processing triggers for systemd (229-4ubuntu21.29) ...\n"
     ]
    }
   ],
   "source": [
    "# Stop the postgres\n",
    "!service postgresql stop\n",
    "# Disable the service\n",
    "!systemctl disable postgresql\n",
    "# Install latest postgres\n",
    "!sh -c 'echo \"deb http://apt.postgresql.org/pub/repos/apt $(lsb_release -cs)-pgdg main\" > /etc/apt/sources.list.d/pgdg.list'\n",
    "!wget --quiet -O - https://www.postgresql.org/media/keys/ACCC4CF8.asc | apt-key add -\n",
    "!apt-get update\n",
    "# In terminal, we don't need --allow-unathenticated, but we seem to in Jupyter\n",
    "!apt-get install -y --allow-unauthenticated postgresql postgresql-contrib"
   ]
  },
  {
   "cell_type": "code",
   "execution_count": 2,
   "metadata": {
    "editable": true
   },
   "outputs": [
    {
     "name": "stdout",
     "output_type": "stream",
     "text": [
      "Ver Cluster Port Status Owner    Data directory               Log file\n",
      "\u001b[31m9.5 main    5432 down   postgres /var/lib/postgresql/9.5/main /var/log/postgresql/postgresql-9.5-main.log\u001b[0m\n",
      "\u001b[31m13  main    5433 down   postgres /var/lib/postgresql/13/main  /var/log/postgresql/postgresql-13-main.log\u001b[0m\n",
      "Restarting old cluster with restricted connections...\n",
      "Creating new PostgreSQL cluster 13/main ...\n",
      "/usr/lib/postgresql/13/bin/initdb -D /var/lib/postgresql/13/main --auth-local peer --auth-host md5 --encoding SQL_ASCII --lc-collate C --lc-ctype C\n",
      "The files belonging to this database system will be owned by user \"postgres\".\n",
      "This user must also own the server process.\n",
      "\n",
      "The database cluster will be initialized with locales\n",
      "  COLLATE:  C\n",
      "  CTYPE:    C\n",
      "  MESSAGES: en_US.UTF-8\n",
      "  MONETARY: en_US.UTF-8\n",
      "  NUMERIC:  en_US.UTF-8\n",
      "  TIME:     en_US.UTF-8\n",
      "The default text search configuration will be set to \"english\".\n",
      "\n",
      "Data page checksums are disabled.\n",
      "\n",
      "fixing permissions on existing directory /var/lib/postgresql/13/main ... ok\n",
      "creating subdirectories ... ok\n",
      "selecting dynamic shared memory implementation ... posix\n",
      "selecting default max_connections ... 100\n",
      "selecting default shared_buffers ... 128MB\n",
      "selecting default time zone ... Etc/UTC\n",
      "creating configuration files ... ok\n",
      "running bootstrap script ... ok\n",
      "performing post-bootstrap initialization ... ok\n",
      "syncing data to disk ... ok\n",
      "\n",
      "Success. You can now start the database server using:\n",
      "\n",
      "    pg_ctlcluster 13 main start\n",
      "\n",
      "Ver Cluster Port Status Owner    Data directory              Log file\n",
      "\u001b[31m13  main    5433 down   postgres /var/lib/postgresql/13/main /var/log/postgresql/postgresql-13-main.log\u001b[0m\n",
      "\n",
      "Starting new cluster...\n",
      "Roles, databases, schemas, ACLs...\n",
      " set_config \n",
      "------------\n",
      " \n",
      "(1 row)\n",
      "\n",
      " set_config \n",
      "------------\n",
      " \n",
      "(1 row)\n",
      "\n",
      " set_config \n",
      "------------\n",
      " \n",
      "(1 row)\n",
      "\n",
      " set_config \n",
      "------------\n",
      " \n",
      "(1 row)\n",
      "\n",
      "Fixing hardcoded library paths for stored procedures...\n",
      "Upgrading database postgres...\n",
      "Analyzing database postgres...\n",
      "Fixing hardcoded library paths for stored procedures...\n",
      "Upgrading database template1...\n",
      "Analyzing database template1...\n",
      "Fixing hardcoded library paths for stored procedures...\n",
      "Upgrading database studentdb...\n",
      "Analyzing database studentdb...\n",
      "Copying old configuration files...\n",
      "Copying old start.conf...\n",
      "Copying old pg_ctl.conf...\n",
      "Stopping target cluster...\n",
      "Stopping old cluster...\n",
      "Disabling automatic startup of old cluster...\n",
      "Configuring old cluster to use a different port (5433)...\n",
      "\n",
      "Success. Please check that the upgraded cluster works. If it does,\n",
      "you can remove the old cluster with\n",
      "    pg_dropcluster 9.5 main\n",
      "\n",
      "Ver Cluster Port Status Owner    Data directory               Log file\n",
      "\u001b[31m9.5 main    5433 down   postgres /var/lib/postgresql/9.5/main /var/log/postgresql/postgresql-9.5-main.log\u001b[0m\n",
      "Ver Cluster Port Status Owner    Data directory              Log file\n",
      "\u001b[31m13  main    5432 down   postgres /var/lib/postgresql/13/main /var/log/postgresql/postgresql-13-main.log\u001b[0m\n"
     ]
    }
   ],
   "source": [
    "# List clusters\n",
    "!pg_lsclusters\n",
    "# Drop the auto-created cluster, now that we have the proper libraries installed, upgrade 9.5 to 13.\n",
    "!pg_dropcluster 13 main\n",
    "!pg_upgradecluster 9.5 main"
   ]
  },
  {
   "cell_type": "markdown",
   "metadata": {
    "editable": true
   },
   "source": [
    "Now we drop the installed version and upgrade the existing one (so we can leverage the existing settings and don't have to redo users, passwords, permissions, etc)."
   ]
  },
  {
   "cell_type": "code",
   "execution_count": 3,
   "metadata": {
    "editable": true
   },
   "outputs": [
    {
     "name": "stdout",
     "output_type": "stream",
     "text": [
      "Ver Cluster Port Status Owner    Data directory               Log file\n",
      "\u001b[31m9.5 main    5433 down   postgres /var/lib/postgresql/9.5/main /var/log/postgresql/postgresql-9.5-main.log\u001b[0m\n",
      "\u001b[31m13  main    5432 down   postgres /var/lib/postgresql/13/main  /var/log/postgresql/postgresql-13-main.log\u001b[0m\n"
     ]
    }
   ],
   "source": [
    "# Check to make sure the new 13 was created from the 9.5, drop the old 9.5\n",
    "!pg_lsclusters\n",
    "!pg_dropcluster 9.5 main"
   ]
  },
  {
   "cell_type": "code",
   "execution_count": 4,
   "metadata": {
    "editable": true
   },
   "outputs": [],
   "source": [
    "# This removes an extension for columnar analytics. It's outdated for postgres 13 and probably not necessary for this exercise.\n",
    "# If we do want that support it's all part of the `citrus` extension now. This is a JIC. It may not exist in the new conf. If it does, and\n",
    "# we don't comment it out, it will error.\n",
    "!sed -i \"s/shared_preload_libraries = 'cstore_fdw'/# shared_preload_libraries = 'cstore_fdw'/\" /etc/postgresql/13/main/postgresql.conf\n",
    "# Start the new cluster\n",
    "!pg_ctlcluster 13 main start"
   ]
  },
  {
   "cell_type": "markdown",
   "metadata": {
    "editable": true
   },
   "source": [
    "Now make sure it all worked. The following should output:\n",
    "```\n",
    "psql (PostgreSQL) 13.X.X (Ubuntu 13.X-X.xxxxx.xx+x)\n",
    "13/main (port 5432): online\n",
    "```"
   ]
  },
  {
   "cell_type": "code",
   "execution_count": 5,
   "metadata": {
    "editable": true
   },
   "outputs": [
    {
     "name": "stdout",
     "output_type": "stream",
     "text": [
      "psql (PostgreSQL) 13.3 (Ubuntu 13.3-1.pgdg16.04+1)\n",
      "13/main (port 5432): online\n"
     ]
    }
   ],
   "source": [
    "# Check the version and the status\n",
    "!psql -V\n",
    "!service postgresql status"
   ]
  },
  {
   "cell_type": "markdown",
   "metadata": {
    "editable": true
   },
   "source": [
    "#### Create the tables for the ETL"
   ]
  },
  {
   "cell_type": "markdown",
   "metadata": {
    "editable": true
   },
   "source": [
    "Install extra dependencies:\n",
    "\n",
    "- Pydash for functional-ish style\n",
    "- Pendulum for a better DateTime interface"
   ]
  },
  {
   "cell_type": "code",
   "execution_count": 6,
   "metadata": {
    "editable": true
   },
   "outputs": [
    {
     "name": "stdout",
     "output_type": "stream",
     "text": [
      "Collecting pydash\n",
      "\u001b[?25l  Downloading https://files.pythonhosted.org/packages/04/54/f00351000198b3dc5926f475530bf7a50453fab3dc8cf89470c5c8e47545/pydash-5.1.0-py3-none-any.whl (84kB)\n",
      "\u001b[K    100% |████████████████████████████████| 92kB 3.6MB/s ta 0:00:011\n",
      "\u001b[?25hInstalling collected packages: pydash\n",
      "Successfully installed pydash-5.1.0\n",
      "Collecting pendulum\n",
      "\u001b[?25l  Downloading https://files.pythonhosted.org/packages/6f/d0/3b9ebd15ae3d4e079d6174ee49b19c113189558d3c5e1e641d03bc4560d2/pendulum-2.1.2-cp36-cp36m-manylinux1_x86_64.whl (154kB)\n",
      "\u001b[K    100% |████████████████████████████████| 163kB 6.8MB/s ta 0:00:01\n",
      "\u001b[?25hCollecting pytzdata>=2020.1 (from pendulum)\n",
      "\u001b[?25l  Downloading https://files.pythonhosted.org/packages/e0/4f/4474bda990ee740a020cbc3eb271925ef7daa7c8444240d34ff62c8442a3/pytzdata-2020.1-py2.py3-none-any.whl (489kB)\n",
      "\u001b[K    100% |████████████████████████████████| 491kB 16.7MB/s ta 0:00:01\n",
      "\u001b[?25hRequirement already satisfied: python-dateutil<3.0,>=2.6 in /opt/conda/lib/python3.6/site-packages (from pendulum) (2.6.1)\n",
      "Requirement already satisfied: six>=1.5 in /opt/conda/lib/python3.6/site-packages (from python-dateutil<3.0,>=2.6->pendulum) (1.11.0)\n",
      "Installing collected packages: pytzdata, pendulum\n",
      "Successfully installed pendulum-2.1.2 pytzdata-2020.1\n"
     ]
    }
   ],
   "source": [
    "!pip install pydash\n",
    "!pip install pendulum"
   ]
  },
  {
   "cell_type": "markdown",
   "metadata": {
    "editable": true
   },
   "source": [
    "Run the `create_tables` script to setup the database..."
   ]
  },
  {
   "cell_type": "code",
   "execution_count": null,
   "metadata": {
    "editable": true
   },
   "outputs": [],
   "source": [
    "%run create_tables.py"
   ]
  },
  {
   "cell_type": "markdown",
   "metadata": {
    "editable": true
   },
   "source": [
    "Run the `etl` script and load the data"
   ]
  },
  {
   "cell_type": "code",
   "execution_count": null,
   "metadata": {
    "editable": true
   },
   "outputs": [],
   "source": [
    "%run etl.py"
   ]
  }
 ],
 "metadata": {
  "kernelspec": {
   "display_name": "Python 3",
   "language": "python",
   "name": "python3"
  },
  "language_info": {
   "codemirror_mode": {
    "name": "ipython",
    "version": 3
   },
   "file_extension": ".py",
   "mimetype": "text/x-python",
   "name": "python",
   "nbconvert_exporter": "python",
   "pygments_lexer": "ipython3",
   "version": "3.6.3"
  }
 },
 "nbformat": 4,
 "nbformat_minor": 4
}
